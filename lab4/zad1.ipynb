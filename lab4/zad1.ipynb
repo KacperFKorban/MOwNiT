{
 "cells": [
  {
   "cell_type": "code",
   "execution_count": 34,
   "metadata": {},
   "outputs": [
    {
     "name": "stdout",
     "output_type": "stream",
     "text": [
      "[[1.]\n",
      " [2.]\n",
      " [3.]]\n"
     ]
    }
   ],
   "source": [
    "import numpy as np\n",
    "\n",
    "def jacobi_solve(A: np.matrix, b: np.matrix, k: int) -> np.matrix:\n",
    "    n = A.shape[0]\n",
    "    D = np.matrix(np.zeros(n*n).reshape(n,n), dtype=float)\n",
    "    R = A.copy()\n",
    "    x = np.matrix(np.zeros(n), dtype=float).transpose()\n",
    "    for i in range(n):\n",
    "        D.itemset((i, i), A.item((i, i)))\n",
    "        R.itemset((i, i), 0)\n",
    "    D_1 = np.linalg.inv(D)\n",
    "    M = D_1 * b\n",
    "    N = D_1 * R\n",
    "    for step in range(k):\n",
    "        x = M - N * x\n",
    "    return x\n",
    "        \n",
    "A = np.matrix([[12,3,4],[5,9,1],[1,4,8]])\n",
    "\n",
    "b = np.matrix([30,26,33]).transpose()\n",
    "        \n",
    "print(jacobi_solve(A, b, 50))"
   ]
  },
  {
   "cell_type": "code",
   "execution_count": 18,
   "metadata": {},
   "outputs": [
    {
     "name": "stdout",
     "output_type": "stream",
     "text": [
      "[[1.]\n",
      " [2.]\n",
      " [3.]]\n"
     ]
    }
   ],
   "source": [
    "def gauss_seidel_solve(A: np.matrix, b: np.matrix, k: int) -> np.matrix:\n",
    "    n = A.shape[0]\n",
    "    L = A.copy()\n",
    "    U = A.copy()\n",
    "    D = A.copy()\n",
    "    x = np.matrix(np.zeros(n), dtype=float).transpose()\n",
    "    for i in range(n):\n",
    "        for j in range(n):\n",
    "            if i < j:\n",
    "                L.itemset((i, j), 0)\n",
    "                D.itemset((i, j), 0)\n",
    "            elif i == j:\n",
    "                L.itemset((i, j), 0)\n",
    "                U.itemset((i, j), 0)\n",
    "            else:\n",
    "                U.itemset((i, j), 0)\n",
    "                D.itemset((i, j), 0)\n",
    "    for step in range(k):\n",
    "        for i in range(n):\n",
    "            val = b.item(i)\n",
    "            for j in range(0, i):\n",
    "                val -= L.item((i, j)) * x.item(j)\n",
    "            for j in range(i+1, n):\n",
    "                val -= U.item((i, j)) * x.item(j)\n",
    "            x.itemset((i, 0), val/D.item((i, i)))\n",
    "    return x\n",
    "\n",
    "A = np.matrix([[12,3,4],[5,9,1],[1,4,8]])\n",
    "\n",
    "b = np.matrix([30,26,33]).transpose()\n",
    "        \n",
    "print(gauss_seidel_solve(A, b, 50))"
   ]
  },
  {
   "cell_type": "code",
   "execution_count": 19,
   "metadata": {},
   "outputs": [
    {
     "name": "stdout",
     "output_type": "stream",
     "text": [
      "[[1.]\n",
      " [2.]\n",
      " [3.]]\n"
     ]
    }
   ],
   "source": [
    "def sor_solve(A: np.matrix, b: np.matrix, k: int, om: float) -> np.matrix:\n",
    "    n = A.shape[0]\n",
    "    L = A.copy()\n",
    "    U = A.copy()\n",
    "    D = A.copy()\n",
    "    x = np.matrix(np.zeros(n), dtype=float).transpose()\n",
    "    for i in range(n):\n",
    "        for j in range(n):\n",
    "            if i < j:\n",
    "                L.itemset((i, j), 0)\n",
    "                D.itemset((i, j), 0)\n",
    "            elif i == j:\n",
    "                L.itemset((i, j), 0)\n",
    "                U.itemset((i, j), 0)\n",
    "            else:\n",
    "                U.itemset((i, j), 0)\n",
    "                D.itemset((i, j), 0)\n",
    "    for step in range(k):\n",
    "        for i in range(n):\n",
    "            val = b.item(i)\n",
    "            for j in range(0, i):\n",
    "                val -= L.item((i, j)) * x.item(j)\n",
    "            for j in range(i+1, n):\n",
    "                val -= U.item((i, j)) * x.item(j)\n",
    "            x.itemset((i, 0), (1-om) * x.item(i) + om * val / D.item((i, i)))\n",
    "    return x\n",
    "\n",
    "A = np.matrix([[12,3,4],[5,9,1],[1,4,8]])\n",
    "\n",
    "b = np.matrix([30,26,33]).transpose()\n",
    "\n",
    "print(sor_solve(A, b, 50, 1))"
   ]
  },
  {
   "cell_type": "code",
   "execution_count": 58,
   "metadata": {
    "scrolled": true
   },
   "outputs": [
    {
     "data": {
      "image/png": "[encoded data removed]",
      "text/plain": [
       "<Figure size 432x288 with 1 Axes>"
      ]
     },
     "metadata": {
      "needs_background": "light"
     },
     "output_type": "display_data"
    }
   ],
   "source": [
    "import matplotlib.pyplot as plt\n",
    "\n",
    "A = np.matrix([[12,3,4],[5,9,1],[1,4,8]])\n",
    "\n",
    "b = np.matrix([30,26,33]).transpose()\n",
    "\n",
    "def dist(a: np.matrix, b: np.matrix) -> int:\n",
    "    res = 0\n",
    "    for i in range(a.shape[0]):\n",
    "        res += (a.item((i, 0)) - b.item((i, 0))) ** 2\n",
    "    return res\n",
    "\n",
    "t = np.arange(1, 51)\n",
    "x = np.matrix([[1.],[2.],[3.]])\n",
    "\n",
    "# print(dist(x, np.matrix([[1.],[2.],[3.5]])))\n",
    "\n",
    "j = list(map(lambda t: dist(x, jacobi_solve(A, b, t)), list(range(1, 51))))\n",
    "sr = list(map(lambda t: dist(x, gauss_seidel_solve(A, b, t)), list(range(1, 51))))\n",
    "sor = list(map(lambda t: dist(x, sor_solve(A, b, t, 0.8)), list(range(1, 51))))\n",
    "\n",
    "plt.plot(list(range(1, 51)), j, 'ro')\n",
    "plt.plot(list(range(1, 51)), sr, 'bo')\n",
    "plt.plot(list(range(1, 51)), sor, 'go')\n",
    "\n",
    "plt.show()"
   ]
  }
 ],
 "metadata": {
  "kernelspec": {
   "display_name": "Python 3",
   "language": "python",
   "name": "python3"
  },
  "language_info": {
   "codemirror_mode": {
    "name": "ipython",
    "version": 3
   },
   "file_extension": ".py",
   "mimetype": "text/x-python",
   "name": "python",
   "nbconvert_exporter": "python",
   "pygments_lexer": "ipython3",
   "version": "3.6.7"
  }
 },
 "nbformat": 4,
 "nbformat_minor": 2
}
