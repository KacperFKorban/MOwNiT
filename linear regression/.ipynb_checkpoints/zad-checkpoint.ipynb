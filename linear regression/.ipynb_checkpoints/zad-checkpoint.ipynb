{
 "cells": [
  {
   "cell_type": "code",
   "execution_count": 2,
   "metadata": {},
   "outputs": [
    {
     "name": "stdout",
     "output_type": "stream",
     "text": [
      "1.0\n"
     ]
    }
   ],
   "source": [
    "from typing import List\n",
    "\n",
    "def rmse(xs: List[float], ys: List[float]) -> float:\n",
    "    suma = 0\n",
    "    for (x, y) in zip(xs, ys):\n",
    "        suma += (x-y)*(x-y)\n",
    "    return suma / len(xs)\n",
    "\n",
    "a = [1,2,3,4,5]\n",
    "b = [2,3,2,3,4]\n",
    "\n",
    "print(rmse(a, b))"
   ]
  },
  {
   "cell_type": "code",
   "execution_count": 4,
   "metadata": {},
   "outputs": [],
   "source": [
    "from typing import Tuple\n",
    "\n",
    "def lin_reg(data: List[Tuple[float, float]]) -> Tuple[float, float]:\n",
    "    mean_x = 0\n",
    "    mean_y = 0\n",
    "    for (x, y) in data:\n",
    "        mean_x += x\n",
    "        mean_y += y\n",
    "    mean_x /= len(data)\n",
    "    mean_y /= len(data)\n",
    "    b = 0\n",
    "    tmp = 0\n",
    "    for (x,y) in data:\n",
    "        b += (x - mean_x) * (y - mean_y)\n",
    "        tmp += (x - mean_x)**2\n",
    "    b /= tmp\n",
    "    a = mean_y - b * mean_x\n",
    "    return (a, b)"
   ]
  },
  {
   "cell_type": "code",
   "execution_count": 65,
   "metadata": {},
   "outputs": [],
   "source": [
    "from typing import List, Tuple, Optional\n",
    "\n",
    "class LinearRegressor():\n",
    "    def __init__(self):\n",
    "        self._coeffs = None   # type: Optional[Tuple[float, float]]\n",
    "    \n",
    "    def fit(self, xs: List[float], ys: List[float]) -> None:\n",
    "        mean_x = 0\n",
    "        mean_y = 0\n",
    "        for (x, y) in zip(xs, ys):\n",
    "            mean_x += x\n",
    "            mean_y += y\n",
    "        mean_x /= len(xs)\n",
    "        mean_y /= len(xs)\n",
    "        a = 0\n",
    "        tmp = 0\n",
    "        for (x, y) in zip(xs, ys):\n",
    "            a += (x - mean_x) * (y - mean_y)\n",
    "            tmp += (x - mean_x)**2\n",
    "        a /= tmp\n",
    "        b = mean_y - a * mean_x\n",
    "        self._coeffs = (a, b)\n",
    "\n",
    "    def predict(self, xs: List[float]) -> List[float]:\n",
    "        (a, b) = self._coeffs\n",
    "        return list(map(lambda x: a * x + b, xs))\n",
    "\n",
    "    @property\n",
    "    def coeffs(self) -> Tuple[float, float]:\n",
    "        if self._coeffs is None:\n",
    "            raise Exception('You need to call `fit` on the model first.')\n",
    "        return self._coeffs"
   ]
  },
  {
   "cell_type": "code",
   "execution_count": 74,
   "metadata": {},
   "outputs": [
    {
     "name": "stdout",
     "output_type": "stream",
     "text": [
      "1: 23.408309319181175\n",
      "11: 57.54654491984484\n",
      "21: 91.68478052050851\n",
      "31: 125.82301612117217\n",
      "41: 159.96125172183582\n",
      "51: 194.0994873224995\n",
      "61: 228.23772292316318\n",
      "71: 262.37595852382685\n",
      "81: 296.5141941244905\n",
      "91: 330.65242972515415\n"
     ]
    }
   ],
   "source": [
    "import csv\n",
    "lr = LinearRegressor()\n",
    "xs = []\n",
    "ys = []\n",
    "with open('data.csv', newline='') as file:\n",
    "    r = csv.reader(file, delimiter=',')\n",
    "    for row in r:\n",
    "        xs.append(float(row[0]))\n",
    "        ys.append(float(row[1]))\n",
    "        \n",
    "lr.fit(xs, ys)\n",
    "l = list(range(1, 100, 10))\n",
    "pred = lr.predict(l)\n",
    "for (x, y) in zip(l, pred):\n",
    "    print(str(x) + ': ' + str(y))"
   ]
  },
  {
   "cell_type": "code",
   "execution_count": 75,
   "metadata": {},
   "outputs": [
    {
     "data": {
      "image/png": "[encoded data removed]",
      "text/plain": [
       "<Figure size 432x288 with 1 Axes>"
      ]
     },
     "metadata": {
      "needs_background": "light"
     },
     "output_type": "display_data"
    }
   ],
   "source": [
    "import matplotlib.pyplot as plt\n",
    "import numpy as np\n",
    "def plot_data(xs: List[float], ys: List[float]) -> None:\n",
    "    lr.fit(xs, ys)\n",
    "    def f(x):\n",
    "        (a, b) = lr.coeffs\n",
    "        return a * x + b\n",
    "    ls = np.linspace(min(xs), max(xs), 1000)\n",
    "    plt.plot(xs, ys, 'ro')\n",
    "    plt.plot(ls, f(ls))\n",
    "    plt.show()\n",
    "\n",
    "plot_data(xs, ys)"
   ]
  }
 ],
 "metadata": {
  "kernelspec": {
   "display_name": "Python 3",
   "language": "python",
   "name": "python3"
  },
  "language_info": {
   "codemirror_mode": {
    "name": "ipython",
    "version": 3
   },
   "file_extension": ".py",
   "mimetype": "text/x-python",
   "name": "python",
   "nbconvert_exporter": "python",
   "pygments_lexer": "ipython3",
   "version": "3.6.7"
  }
 },
 "nbformat": 4,
 "nbformat_minor": 2
}
