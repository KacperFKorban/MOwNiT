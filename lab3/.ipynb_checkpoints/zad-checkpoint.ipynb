{
 "cells": [
  {
   "cell_type": "code",
   "execution_count": 32,
   "metadata": {},
   "outputs": [
    {
     "name": "stdout",
     "output_type": "stream",
     "text": [
      "[[ 0.21602477]\n",
      " [-0.00791511]\n",
      " [ 0.63524333]\n",
      " [ 0.74617428]]\n",
      "[[ 0.21602477]\n",
      " [-0.00791511]\n",
      " [ 0.63524333]\n",
      " [ 0.74617428]]\n"
     ]
    }
   ],
   "source": [
    "import numpy as np\n",
    "def gaussian_elimination_no_pivoting(a_arg: np.matrix, b_arg: np.matrix) -> np.matrix:\n",
    "    a = a_arg.copy()\n",
    "    b = b_arg.copy()\n",
    "    a = a.astype(float)\n",
    "    b = b.astype(float)\n",
    "    n = a.shape[0]\n",
    "    for curr_row in range(n):\n",
    "        factor = a.item(curr_row, curr_row)\n",
    "        for i in range(curr_row, n):\n",
    "            v = a.item((curr_row, i))\n",
    "            a.itemset((curr_row, i), v / factor)\n",
    "        b.itemset((curr_row, 0), b.item((curr_row, 0)) / factor)\n",
    "        for sub_row in range(n):\n",
    "            if sub_row != curr_row:\n",
    "                factor = a.item((sub_row, curr_row))\n",
    "                for column in range(curr_row, n):\n",
    "                    pv = a.item((curr_row, column))\n",
    "                    v = a.item((sub_row, column))\n",
    "                    a.itemset((sub_row, column), v - pv * factor)\n",
    "                b.itemset((sub_row, 0), b.item((sub_row, 0)) - b.item((curr_row, 0)) * factor)\n",
    "    return b\n",
    "\n",
    "A = np.matrix([[0.0001, -5.0300, 5.8090, 7.8320],\n",
    "               [2.2660, 1.9950,  1.2120, 8.0080],\n",
    "               [8.8500, 5.6810,  4.5520, 1.3020],\n",
    "               [6.7750, -2.253,  2.9080, 3.9700]])\n",
    "\n",
    "b = np.matrix([9.5740, 7.2190, 5.7300, 6.2910]).transpose()\n",
    "\n",
    "print(gaussian_elimination_no_pivoting(A, b))\n",
    "\n",
    "print(np.linalg.solve(A, b))"
   ]
  },
  {
   "cell_type": "code",
   "execution_count": 51,
   "metadata": {},
   "outputs": [
    {
     "name": "stdout",
     "output_type": "stream",
     "text": [
      "[[ 0.21602477]\n",
      " [-0.00791511]\n",
      " [ 0.63524333]\n",
      " [ 0.74617428]]\n",
      "[[ 0.21602477]\n",
      " [-0.00791511]\n",
      " [ 0.63524333]\n",
      " [ 0.74617428]]\n"
     ]
    }
   ],
   "source": [
    "def gaussian_elimination_with_pivoting(a_arg: np.matrix, b_arg: np.matrix) -> np.matrix:\n",
    "    a = a_arg.copy()\n",
    "    b = b_arg.copy()\n",
    "    a = a.astype(float)\n",
    "    b = b.astype(float)\n",
    "    n = a.shape[0]\n",
    "    redir = list(range(n))\n",
    "    maxs = np.absolute(a).max(1).transpose().tolist()[0]\n",
    "    for curr_row in range(n):\n",
    "        #pivoting\n",
    "        curr_max = 0\n",
    "        j = curr_row\n",
    "        for i in range(curr_row, n):\n",
    "            if a.item((redir[i], curr_row)) / maxs[redir[i]] > curr_max:\n",
    "                j = i\n",
    "                curr_max = a.item((redir[i], curr_row)) / maxs[redir[i]]\n",
    "        redir[j], redir[curr_row] = redir[curr_row], redir[j]\n",
    "        #end pivoting\n",
    "        factor = a.item(redir[curr_row], curr_row)\n",
    "        for i in range(curr_row, n):\n",
    "            v = a.item((redir[curr_row], i))\n",
    "            a.itemset((redir[curr_row], i), v / factor)\n",
    "        b.itemset((redir[curr_row], 0), b.item((redir[curr_row], 0)) / factor)\n",
    "        for sub_row in range(n):\n",
    "            if sub_row != curr_row:\n",
    "                factor = a.item((redir[sub_row], curr_row))\n",
    "                for column in range(curr_row, n):\n",
    "                    pv = a.item((redir[curr_row], column))\n",
    "                    v = a.item((redir[sub_row], column))\n",
    "                    a.itemset((redir[sub_row], column), v - pv * factor)\n",
    "                b.itemset((redir[sub_row], 0), \n",
    "                          b.item((redir[sub_row], 0)) - \n",
    "                          b.item((redir[curr_row], 0)) * factor)\n",
    "    return np.matrix(list(map(lambda x: b.item((x, 0)), redir))).transpose()\n",
    "\n",
    "A = np.matrix([[0.0001, -5.0300, 5.8090, 7.8320],\n",
    "               [2.2660, 1.9950,  1.2120, 8.0080],\n",
    "               [8.8500, 5.6810,  4.5520, 1.3020],\n",
    "               [6.7750, -2.253,  2.9080, 3.9700]])\n",
    "\n",
    "b = np.matrix([9.5740, 7.2190, 5.7300, 6.2910]).transpose()\n",
    "\n",
    "print(gaussian_elimination_with_pivoting(A, b))\n",
    "\n",
    "print(np.linalg.solve(A, b))"
   ]
  }
 ],
 "metadata": {
  "kernelspec": {
   "display_name": "Python 3",
   "language": "python",
   "name": "python3"
  },
  "language_info": {
   "codemirror_mode": {
    "name": "ipython",
    "version": 3
   },
   "file_extension": ".py",
   "mimetype": "text/x-python",
   "name": "python",
   "nbconvert_exporter": "python",
   "pygments_lexer": "ipython3",
   "version": "3.6.7"
  }
 },
 "nbformat": 4,
 "nbformat_minor": 2
}
