{
 "cells": [
  {
   "cell_type": "code",
   "execution_count": 20,
   "metadata": {},
   "outputs": [],
   "source": [
    "import numpy as np\n",
    "def agh_superfast_matrix_multiply(a: np.matrix, b: np.matrix) -> np.matrix:\n",
    "    \"\"\"Perform totally ordinary multiplication of matrices.\n",
    "    \n",
    "    :param a: matrix with dimensions n by m\n",
    "    :param b: matrix with dimensions m by k\n",
    "    :return:  matrix with dimensions n by k\n",
    "    \"\"\"\n",
    "    n = a.shape[0]\n",
    "    k = b.shape[1]\n",
    "    res = np.arange(n*k).reshape(n, k)\n",
    "    for i in range(0, n):\n",
    "        for j in range(0, k):\n",
    "            tmp = zip(np.squeeze(np.asarray(a[i])), \n",
    "                      np.squeeze(np.asarray(b.transpose()[j])))\n",
    "            res[i][j] = sum([x*y for (x, y) in tmp])\n",
    "    return res\n",
    "\n",
    "m1 = np.matrix([[1, 2],\n",
    "                [3, 4],\n",
    "                [4, 5],\n",
    "                [5, 1]])\n",
    "\n",
    "m2 = np.matrix([[1, 2, 3],\n",
    "                [4, 5, 6]])\n",
    "\n",
    "res = agh_superfast_matrix_multiply(m1, m2)\n",
    "assert np.allclose(res, m1 * m2), \"Wrong multiplication result\""
   ]
  },
  {
   "cell_type": "code",
   "execution_count": null,
   "metadata": {},
   "outputs": [],
   "source": []
  }
 ],
 "metadata": {
  "kernelspec": {
   "display_name": "Python 3",
   "language": "python",
   "name": "python3"
  },
  "language_info": {
   "codemirror_mode": {
    "name": "ipython",
    "version": 3
   },
   "file_extension": ".py",
   "mimetype": "text/x-python",
   "name": "python",
   "nbconvert_exporter": "python",
   "pygments_lexer": "ipython3",
   "version": "3.6.7"
  }
 },
 "nbformat": 4,
 "nbformat_minor": 2
}
