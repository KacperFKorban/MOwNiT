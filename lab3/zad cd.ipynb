{
 "cells": [
  {
   "cell_type": "code",
   "execution_count": 21,
   "metadata": {},
   "outputs": [
    {
     "name": "stdout",
     "output_type": "stream",
     "text": [
      "[[ 1.          0.          0.        ]\n",
      " [ 0.2         1.          0.        ]\n",
      " [ 0.6        -1.28571429  1.        ]]\n",
      "[[ 5.          3.          2.        ]\n",
      " [ 0.          1.4        -0.4       ]\n",
      " [ 0.          0.          2.28571429]]\n",
      "[[5.00000000e+00 3.00000000e+00 2.00000000e+00]\n",
      " [1.00000000e+00 2.00000000e+00 0.00000000e+00]\n",
      " [3.00000000e+00 1.14194368e-16 4.00000000e+00]]\n"
     ]
    }
   ],
   "source": [
    "import numpy as np\n",
    "from typing import Optional, Tuple\n",
    "\n",
    "def agh_superfast_lu(a: np.matrix) -> Optional[Tuple[np.matrix, np.matrix]]:\n",
    "    \"\"\"Perform LU decomposition of a matrix.\n",
    "    \n",
    "    :param a: matrix\n",
    "    :return: (L, U)\n",
    "    \"\"\"\n",
    "    n = a.shape[0]\n",
    "    L = np.matrix(np.zeros(n*n).reshape(n,n), dtype=float)\n",
    "    U = np.matrix(np.zeros(n*n).reshape(n,n), dtype=float)\n",
    "    for i in range(n):\n",
    "        L.itemset((i,i), 1)\n",
    "    try:\n",
    "        for i in range(n):\n",
    "            for j in range(i, n):\n",
    "                sum = a.item((i, j))\n",
    "                for k in range(i):\n",
    "                    sum -= L.item((i, k)) * U.item((k, j))\n",
    "                U.itemset((i, j), sum)\n",
    "                sum = a.item((j, i))\n",
    "                if j != i:\n",
    "                    for k in range(i):\n",
    "                        sum -= L.item((j, k)) * U.item((k, i))\n",
    "                    sum /= U.item((i, i))\n",
    "                    L.itemset((j, i), sum)\n",
    "    except:\n",
    "        pass\n",
    "    return (L, U)\n",
    "\n",
    "a = np.matrix([[5,3,2],[1,2,0],[3,0,4]])\n",
    "\n",
    "L, U = agh_superfast_lu(a)\n",
    "\n",
    "print(L)\n",
    "print(U)\n",
    "print(L*U)"
   ]
  },
  {
   "cell_type": "code",
   "execution_count": 15,
   "metadata": {},
   "outputs": [
    {
     "name": "stdout",
     "output_type": "stream",
     "text": [
      "True\n",
      "False\n"
     ]
    }
   ],
   "source": [
    "def minor(arr,i,j) -> np.matrix:\n",
    "    return arr[np.array(list(range(i))+list(range(i+1,arr.shape[0])))[:,np.newaxis],\n",
    "               np.array(list(range(j))+list(range(j+1,arr.shape[1])))]\n",
    "\n",
    "def agh_superfast_check_spd(a: np.matrix) -> bool:\n",
    "    \"\"\"Check whether a matrix is symmetric and positive-definite (SPD).\n",
    "    \n",
    "    :param a: matrix\n",
    "    \"\"\"\n",
    "    n = a.shape[0]\n",
    "    tmp = a\n",
    "    for i in range(n-1, 0, -1):\n",
    "        tmp = minor(tmp, i, i)\n",
    "        if np.linalg.det(tmp) < 0:\n",
    "            return false\n",
    "    return np.all(a == a.transpose())\n",
    "\n",
    "a = np.matrix([[2,-1,0],[-1,2,-1],[0,-1,2]])\n",
    "\n",
    "b = np.matrix([[1,2],[3,4]])\n",
    "\n",
    "print(agh_superfast_check_spd(a))\n",
    "print(agh_superfast_check_spd(b))"
   ]
  },
  {
   "cell_type": "code",
   "execution_count": null,
   "metadata": {},
   "outputs": [],
   "source": [
    "def agh_superfast_cholesky(a: np.matrix) -> Optional[np.matrix]:\n",
    "    \"\"\"Perform a Cholesky decomposition of a matrix.\n",
    "    \n",
    "    :param a: _\n",
    "    :return:  _\n",
    "    \"\"\"\n",
    "    pass"
   ]
  }
 ],
 "metadata": {
  "kernelspec": {
   "display_name": "Python 3",
   "language": "python",
   "name": "python3"
  },
  "language_info": {
   "codemirror_mode": {
    "name": "ipython",
    "version": 3
   },
   "file_extension": ".py",
   "mimetype": "text/x-python",
   "name": "python",
   "nbconvert_exporter": "python",
   "pygments_lexer": "ipython3",
   "version": "3.6.7"
  }
 },
 "nbformat": 4,
 "nbformat_minor": 2
}
